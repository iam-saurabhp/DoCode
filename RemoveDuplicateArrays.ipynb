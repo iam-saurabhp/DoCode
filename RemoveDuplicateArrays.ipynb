{
 "cells": [
  {
   "cell_type": "markdown",
   "id": "6c179f93",
   "metadata": {},
   "source": [
    "Remove Duplicate elements from given array that too perform inplace eliminations:"
   ]
  },
  {
   "cell_type": "code",
   "execution_count": 5,
   "id": "6469b32a",
   "metadata": {},
   "outputs": [
    {
     "name": "stdout",
     "output_type": "stream",
     "text": [
      "elements are [0, 1, 2, 3, 4, 2, 2, 3, 3, 4] and index range is 5\n"
     ]
    }
   ],
   "source": [
    "nums = [0,0,1,1,1,2,2,3,3,4]\n",
    "def removeDuplicates(nums):\n",
    "    insertIndex = 1\n",
    "    for i in range(1,len(nums)):\n",
    "        if nums[i-1] != nums[i]:\n",
    "            nums[insertIndex] = nums[i]\n",
    "            insertIndex += 1\n",
    "    return insertIndex,nums\n",
    "\n",
    "insertIndex, elements = removeDuplicates(nums)\n",
    "print(f\"elements are {elements} and index range is {insertIndex}\")\n",
    "\n"
   ]
  },
  {
   "cell_type": "code",
   "execution_count": null,
   "id": "d801719c",
   "metadata": {},
   "outputs": [],
   "source": []
  }
 ],
 "metadata": {
  "kernelspec": {
   "display_name": "Python 3",
   "language": "python",
   "name": "python3"
  },
  "language_info": {
   "codemirror_mode": {
    "name": "ipython",
    "version": 3
   },
   "file_extension": ".py",
   "mimetype": "text/x-python",
   "name": "python",
   "nbconvert_exporter": "python",
   "pygments_lexer": "ipython3",
   "version": "3.10.11"
  }
 },
 "nbformat": 4,
 "nbformat_minor": 5
}
