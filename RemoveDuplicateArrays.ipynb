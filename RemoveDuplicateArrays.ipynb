{
 "cells": [
  {
   "cell_type": "markdown",
   "id": "6c179f93",
   "metadata": {},
   "source": [
    "Remove Duplicate elements from given array that too perform inplace eliminations:"
   ]
  },
  {
   "cell_type": "code",
   "execution_count": null,
   "id": "6469b32a",
   "metadata": {},
   "outputs": [],
   "source": [
    "nums = [0,0,1,1,1,2,2,3,3,4]\n",
    "def removeDuplicates():\n",
    "    g\n"
   ]
  },
  {
   "cell_type": "code",
   "execution_count": null,
   "id": "d801719c",
   "metadata": {},
   "outputs": [],
   "source": []
  }
 ],
 "metadata": {
  "language_info": {
   "name": "python"
  }
 },
 "nbformat": 4,
 "nbformat_minor": 5
}
