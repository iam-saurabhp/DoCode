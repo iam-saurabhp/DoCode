{
 "cells": [
  {
   "cell_type": "markdown",
   "id": "628f313f",
   "metadata": {},
   "source": [
    "##### 🧠 Question:\n",
    "Given a non-empty array of integers, every element appears twice except for one.  \n",
    "Find that single one.\n",
    "\n",
    "**Example:**  \n",
    "`nums = [4, 1, 2, 1, 2]`  \n",
    "\n",
    "**Expected Output:**  \n",
    "`4`\n"
   ]
  },
  {
   "cell_type": "markdown",
   "id": "559db220",
   "metadata": {},
   "source": [
    "##### Approach 1: using defaultdict() dictionary, where it gives 0 if number is not available in dictionary, hence no error if key is not available in dictionary.\n"
   ]
  },
  {
   "cell_type": "code",
   "execution_count": 3,
   "id": "03269f73",
   "metadata": {},
   "outputs": [
    {
     "name": "stdout",
     "output_type": "stream",
     "text": [
      "element is 4 and index is 1\n"
     ]
    }
   ],
   "source": [
    "from collections import defaultdict\n",
    "\n",
    "nums = [4,1,2,1,2]\n",
    "def singleNumber(nums):\n",
    "    hash_table = defaultdict(int)\n",
    "    for num in nums:\n",
    "        hash_table[num]  = hash_table[num] + 1\n",
    "    \n",
    "    for num in hash_table:\n",
    "        if hash_table[num] == 1:\n",
    "            return num, hash_table[num]\n",
    "\n",
    "num, index = singleNumber(nums)\n",
    "print(f\"element is {num} and index is {index}\")"
   ]
  },
  {
   "cell_type": "markdown",
   "id": "29b27fe1",
   "metadata": {},
   "source": [
    "---------------------------------------------------------------------------"
   ]
  },
  {
   "cell_type": "markdown",
   "id": "eb9bb8d7",
   "metadata": {},
   "source": [
    "##### Approach 2: using XOR\n",
    "Note:   \n",
    "`When we XOR a number for even number of times, it returns 0`<br>\n",
    "`When we XOR a number for odd number of times, it returns the numnber itself`"
   ]
  },
  {
   "cell_type": "code",
   "execution_count": null,
   "id": "9ee66c6e",
   "metadata": {},
   "outputs": [],
   "source": [
    "###### Approach 1: using defaultdict() dictionary, where it gives 0 if number is not available in dictionary, hence no error if key is not available in dictionary.\n"
   ]
  }
 ],
 "metadata": {
  "kernelspec": {
   "display_name": "Python 3",
   "language": "python",
   "name": "python3"
  },
  "language_info": {
   "codemirror_mode": {
    "name": "ipython",
    "version": 3
   },
   "file_extension": ".py",
   "mimetype": "text/x-python",
   "name": "python",
   "nbconvert_exporter": "python",
   "pygments_lexer": "ipython3",
   "version": "3.10.11"
  }
 },
 "nbformat": 4,
 "nbformat_minor": 5
}
