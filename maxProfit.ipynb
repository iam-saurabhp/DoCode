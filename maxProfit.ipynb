{
 "cells": [
  {
   "cell_type": "markdown",
   "id": "53e17732",
   "metadata": {},
   "source": [
    "We need to identify the maxiumm profit we can get from the prices of shares, presented as arrays values."
   ]
  },
  {
   "cell_type": "code",
   "execution_count": null,
   "id": "0add3cbb",
   "metadata": {},
   "outputs": [
    {
     "data": {
      "text/plain": [
       "5"
      ]
     },
     "execution_count": 12,
     "metadata": {},
     "output_type": "execute_result"
    }
   ],
   "source": [
    "prices = [7,1,5,3,6,4] # O(n)\n",
    "def maxProfit(prices):\n",
    "    max_profit = 0\n",
    "    min_price = prices[0]\n",
    "    for i in range(1,len(prices)):\n",
    "        if prices[i] < min_price:\n",
    "            min_price = prices[i]\n",
    "        profit = prices[i] - min_price\n",
    "        if profit > max_profit:\n",
    "            max_profit = profit\n",
    "    return max_profit\n",
    "maxProfit(prices)\n",
    "    "
   ]
  },
  {
   "cell_type": "markdown",
   "id": "59552516",
   "metadata": {},
   "source": [
    "#### buy anytime and sell anytime , just get the profit, ref. TT DSA"
   ]
  },
  {
   "cell_type": "code",
   "execution_count": 1,
   "id": "37a4861c",
   "metadata": {},
   "outputs": [
    {
     "data": {
      "text/plain": [
       "7"
      ]
     },
     "execution_count": 1,
     "metadata": {},
     "output_type": "execute_result"
    }
   ],
   "source": [
    "prices = [7,1,5,3,6,4]\n",
    "def max_profit(prices):\n",
    "    total_profit = 0\n",
    "    for i in range(1, len(prices)):\n",
    "        if prices[i] > prices[i-1]:\n",
    "            total_profit = total_profit + (prices[i] - prices[i-1])\n",
    "    return total_profit\n",
    "max_profit(prices) "
   ]
  },
  {
   "cell_type": "code",
   "execution_count": null,
   "id": "24ffd579",
   "metadata": {},
   "outputs": [],
   "source": []
  }
 ],
 "metadata": {
  "kernelspec": {
   "display_name": "Python 3",
   "language": "python",
   "name": "python3"
  },
  "language_info": {
   "codemirror_mode": {
    "name": "ipython",
    "version": 3
   },
   "file_extension": ".py",
   "mimetype": "text/x-python",
   "name": "python",
   "nbconvert_exporter": "python",
   "pygments_lexer": "ipython3",
   "version": "3.10.11"
  }
 },
 "nbformat": 4,
 "nbformat_minor": 5
}
